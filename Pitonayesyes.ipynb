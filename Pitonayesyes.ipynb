import matplotlib.pyplot as plt
from sklearn.model_selection import KFold
from keras.models import Sequential
from keras.layers import Dense
from sklearn.preprocessing import StandardScaler
import numpy as np

# Ejemplo de datos de entrada y objetivo
X_train = [[27.9, 23.3, 9.54, 303.0, 4254.0, 0], 
           [28.3, 26.1, 9.01, 303.0, 8191.0, 0], 
           [26.6, 24.6, 9.01, 303.0, 9023.0, 4012], 
           [27.2, 22.5, 8.48, 303.0, 4077.0, 0]]
y_train = [0.30, 0.20, 0.10, 0.25]

X_test = [[26.6, 25.7, 9.01, 303.0, 8040.0, 3937]]
y_test = [0.15]

# Escalado de los datos
scaler = StandardScaler()
X_train_scaled = scaler.fit_transform(X_train)
X_test_scaled = scaler.transform(X_test)

# Convertir y_train a numpy array para que pueda ser indexado
y_train = np.array(y_train)

# Crear el modelo de red neuronal
model = Sequential()
model.add(Dense(64, activation='relu', input_shape=(X_train_scaled.shape[1],)))
model.add(Dense(1))

# Lista para almacenar las pérdidas y las predicciones
losses = []
predictions = []
real_values = []

# Entrenamiento con validación cruzada
kf = KFold(n_splits=4, shuffle=True, random_state=42)  # Asegúrate de que el número de divisiones no exceda el tamaño de los datos
for train_index, val_index in kf.split(X_train_scaled):
    X_train_fold, X_val_fold = X_train_scaled[train_index], X_train_scaled[val_index]
    y_train_fold, y_val_fold = y_train[train_index], y_train[val_index]
    
    # Entrenar el modelo
    model.compile(optimizer='adam', loss='mean_squared_error')
    history = model.fit(X_train_fold, y_train_fold, epochs=50, batch_size=10, verbose=0)
    
    # Evaluar el modelo y almacenar la pérdida
    loss = model.evaluate(X_val_fold, y_val_fold, verbose=0)
    losses.append(loss)
    
    # Guardar las predicciones
    y_pred = model.predict(X_val_fold)
    predictions.extend(y_pred.flatten())  # Aplanar para asegurarse de que se trate como un solo vector
    real_values.extend(y_val_fold)

# Mostrar los valores reales y las predicciones
print("Valores reales: ", real_values)
print("Predicciones: ", predictions)

# Graficar la pérdida durante el entrenamiento
plt.figure(figsize=(10, 5))
plt.plot(losses, label="Pérdida de validación", color='blue')
plt.xlabel("Épocas")
plt.ylabel("Pérdida")
plt.title("Pérdida de validación durante el entrenamiento")
plt.legend()
plt.grid(True)
plt.show()

# Graficar predicciones vs valores reales
plt.figure(figsize=(10, 5))
plt.scatter(real_values, predictions, color='blue', label='Predicciones')
plt.plot([min(real_values), max(real_values)], [min(real_values), max(real_values)], color='red', linestyle='--', label='Línea de referencia')
plt.xlabel("Valores Reales")
plt.ylabel("Predicciones")
plt.title("Predicciones vs Valores Reales")
plt.legend()
plt.grid(True)
plt.show()
